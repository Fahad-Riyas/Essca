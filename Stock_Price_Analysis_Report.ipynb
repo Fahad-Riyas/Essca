{
  "nbformat": 4,
  "nbformat_minor": 0,
  "metadata": {
    "colab": {
      "provenance": []
    },
    "kernelspec": {
      "name": "python3",
      "display_name": "Python 3"
    },
    "language_info": {
      "name": "python"
    }
  },
  "cells": [
    {
      "cell_type": "code",
      "execution_count": 7,
      "metadata": {
        "colab": {
          "base_uri": "https://localhost:8080/"
        },
        "id": "YJtsbMbtj0_A",
        "outputId": "049ddc53-d85e-4c16-c0f2-909d67a84471",
        "collapsed": true
      },
      "outputs": [
        {
          "output_type": "stream",
          "name": "stdout",
          "text": [
            "Requirement already satisfied: yfinance in /usr/local/lib/python3.11/dist-packages (0.2.55)\n",
            "Requirement already satisfied: pandas in /usr/local/lib/python3.11/dist-packages (2.2.2)\n",
            "Requirement already satisfied: matplotlib in /usr/local/lib/python3.11/dist-packages (3.10.0)\n",
            "Requirement already satisfied: seaborn in /usr/local/lib/python3.11/dist-packages (0.13.2)\n",
            "Requirement already satisfied: numpy>=1.16.5 in /usr/local/lib/python3.11/dist-packages (from yfinance) (2.0.2)\n",
            "Requirement already satisfied: requests>=2.31 in /usr/local/lib/python3.11/dist-packages (from yfinance) (2.32.3)\n",
            "Requirement already satisfied: multitasking>=0.0.7 in /usr/local/lib/python3.11/dist-packages (from yfinance) (0.0.11)\n",
            "Requirement already satisfied: platformdirs>=2.0.0 in /usr/local/lib/python3.11/dist-packages (from yfinance) (4.3.7)\n",
            "Requirement already satisfied: pytz>=2022.5 in /usr/local/lib/python3.11/dist-packages (from yfinance) (2025.2)\n",
            "Requirement already satisfied: frozendict>=2.3.4 in /usr/local/lib/python3.11/dist-packages (from yfinance) (2.4.6)\n",
            "Requirement already satisfied: peewee>=3.16.2 in /usr/local/lib/python3.11/dist-packages (from yfinance) (3.17.9)\n",
            "Requirement already satisfied: beautifulsoup4>=4.11.1 in /usr/local/lib/python3.11/dist-packages (from yfinance) (4.13.4)\n",
            "Requirement already satisfied: python-dateutil>=2.8.2 in /usr/local/lib/python3.11/dist-packages (from pandas) (2.8.2)\n",
            "Requirement already satisfied: tzdata>=2022.7 in /usr/local/lib/python3.11/dist-packages (from pandas) (2025.2)\n",
            "Requirement already satisfied: contourpy>=1.0.1 in /usr/local/lib/python3.11/dist-packages (from matplotlib) (1.3.2)\n",
            "Requirement already satisfied: cycler>=0.10 in /usr/local/lib/python3.11/dist-packages (from matplotlib) (0.12.1)\n",
            "Requirement already satisfied: fonttools>=4.22.0 in /usr/local/lib/python3.11/dist-packages (from matplotlib) (4.57.0)\n",
            "Requirement already satisfied: kiwisolver>=1.3.1 in /usr/local/lib/python3.11/dist-packages (from matplotlib) (1.4.8)\n",
            "Requirement already satisfied: packaging>=20.0 in /usr/local/lib/python3.11/dist-packages (from matplotlib) (24.2)\n",
            "Requirement already satisfied: pillow>=8 in /usr/local/lib/python3.11/dist-packages (from matplotlib) (11.1.0)\n",
            "Requirement already satisfied: pyparsing>=2.3.1 in /usr/local/lib/python3.11/dist-packages (from matplotlib) (3.2.3)\n",
            "Requirement already satisfied: soupsieve>1.2 in /usr/local/lib/python3.11/dist-packages (from beautifulsoup4>=4.11.1->yfinance) (2.7)\n",
            "Requirement already satisfied: typing-extensions>=4.0.0 in /usr/local/lib/python3.11/dist-packages (from beautifulsoup4>=4.11.1->yfinance) (4.13.2)\n",
            "Requirement already satisfied: six>=1.5 in /usr/local/lib/python3.11/dist-packages (from python-dateutil>=2.8.2->pandas) (1.17.0)\n",
            "Requirement already satisfied: charset-normalizer<4,>=2 in /usr/local/lib/python3.11/dist-packages (from requests>=2.31->yfinance) (3.4.1)\n",
            "Requirement already satisfied: idna<4,>=2.5 in /usr/local/lib/python3.11/dist-packages (from requests>=2.31->yfinance) (3.10)\n",
            "Requirement already satisfied: urllib3<3,>=1.21.1 in /usr/local/lib/python3.11/dist-packages (from requests>=2.31->yfinance) (2.3.0)\n",
            "Requirement already satisfied: certifi>=2017.4.17 in /usr/local/lib/python3.11/dist-packages (from requests>=2.31->yfinance) (2025.1.31)\n"
          ]
        }
      ],
      "source": [
        "pip install yfinance pandas matplotlib seaborn\n"
      ]
    },
    {
      "cell_type": "code",
      "source": [
        "pip install reportlab\n"
      ],
      "metadata": {
        "id": "fswxEODHkEDr",
        "collapsed": true,
        "colab": {
          "base_uri": "https://localhost:8080/"
        },
        "outputId": "6727318b-a402-40a2-f653-8a98bedc2256"
      },
      "execution_count": 8,
      "outputs": [
        {
          "output_type": "stream",
          "name": "stdout",
          "text": [
            "Requirement already satisfied: reportlab in /usr/local/lib/python3.11/dist-packages (4.4.0)\n",
            "Requirement already satisfied: pillow>=9.0.0 in /usr/local/lib/python3.11/dist-packages (from reportlab) (11.1.0)\n",
            "Requirement already satisfied: chardet in /usr/local/lib/python3.11/dist-packages (from reportlab) (5.2.0)\n"
          ]
        }
      ]
    },
    {
      "cell_type": "code",
      "source": [
        "# Importing required libraries\n",
        "import yfinance as yf\n",
        "import pandas as pd\n",
        "import matplotlib.pyplot as plt\n",
        "import seaborn as sns\n",
        "from reportlab.lib.pagesizes import letter\n",
        "from reportlab.pdfgen import canvas\n",
        "from reportlab.lib.units import inch\n",
        "from reportlab.pdfbase.pdfmetrics import stringWidth\n",
        "\n",
        "# Importing Amazon stock data using yfinance\n",
        "data = yf.download('AMZN', start='2020-01-01', end='2023-12-31')\n",
        "data.index = pd.to_datetime(data.index)\n",
        "data.ffill(inplace=True)\n",
        "\n",
        "# Data Cleaning and Selecting Necessary Data\n",
        "data['Normalized_Close'] = data['Close'] / data['Close'].iloc[0]\n",
        "data['SMA_20'] = data['Close'].rolling(window=20).mean()\n",
        "data['SMA_50'] = data['Close'].rolling(window=50).mean()\n",
        "data['Daily Return'] = data['Close'].pct_change() * 100\n",
        "\n",
        "# Visualization\n",
        "sns.set(style=\"darkgrid\")\n",
        "\n",
        "def save_plot(filename, plot_func):\n",
        "    plot_func()\n",
        "    plt.tight_layout()\n",
        "    plt.savefig(filename, bbox_inches='tight')\n",
        "    plt.close()\n",
        "\n",
        "# Closing Price\n",
        "save_plot(\"closing_price.png\", lambda: (\n",
        "    plt.plot(data['Close'], label='AMZN Closing Price', color='teal'),\n",
        "    plt.title('Amazon Stock Closing Price Over Time'),\n",
        "    plt.xlabel('Date'), plt.ylabel('Price (USD)'), plt.legend()\n",
        "))\n",
        "\n",
        "# Price Distribution\n",
        "save_plot(\"distribution_prices.png\", lambda: (\n",
        "    sns.histplot(data['Close'], kde=True, color='purple'),\n",
        "    plt.title('Distribution of Amazon Stock Closing Prices')\n",
        "))\n",
        "\n",
        "# Correlation Heatmap\n",
        "save_plot(\"correlation_heatmap.png\", lambda: (\n",
        "    sns.heatmap(data.corr(), annot=True, cmap='coolwarm'),\n",
        "    plt.title('Correlation Between Variables')\n",
        "))\n",
        "\n",
        "# Moving Averages\n",
        "save_plot(\"moving_averages.png\", lambda: (\n",
        "    plt.plot(data['Close'], label='Close Price', color='blue'),\n",
        "    plt.plot(data['SMA_20'], label='20-Day SMA', color='orange'),\n",
        "    plt.plot(data['SMA_50'], label='50-Day SMA', color='green'),\n",
        "    plt.title('Amazon Stock with Moving Averages'), plt.legend()\n",
        "))\n",
        "\n",
        "# Daily Return Plot\n",
        "save_plot(\"daily_return.png\", lambda: (\n",
        "    sns.lineplot(x=data.index, y=data['Daily Return'], color='darkred'),\n",
        "    plt.title('Daily Return Over Time'), plt.xlabel('Date'), plt.ylabel('Daily Return (%)')\n",
        "))\n",
        "\n",
        "# Generating PDF Report\n",
        "pdf_filename = \"amazon_stock_analysis_report.pdf\"\n",
        "c = canvas.Canvas(pdf_filename, pagesize= letter )\n",
        "\n",
        "width, height = letter\n",
        "margin = 72\n",
        "image_width = 5.5 * inch\n",
        "image_height = 3 * inch\n",
        "y_offset = height - margin\n",
        "\n",
        "# Report Title and Introduction\n",
        "title = \"Amazon Stock Analysis Report (2020–2023)\"\n",
        "c.setFont(\"Helvetica-Bold\", 20)\n",
        "text_width = stringWidth(title, \"Helvetica-Bold\", 20)  # Match font size\n",
        "x_centered = (width - text_width) / 2\n",
        "c.drawString(x_centered, y_offset, title)\n",
        "y_offset -= 30\n",
        "\n",
        "intro = [\n",
        "    \"Amazon.com Inc. is a global leader in e-commerce and cloud services.\" ,\n",
        "    \"This report analyzes Amazon’s stock behavior from Jan 2020 to Dec 2023.\" ,\n",
        "    \"It includes visualizations of price trends, returns, and technical indicators.\",\n",
        "    \"\"\n",
        "]\n",
        "c.setFont(\"Helvetica\", 14)\n",
        "for line in intro:\n",
        "    c.drawString(margin, y_offset, line)\n",
        "    y_offset -= 16\n",
        "\n",
        "# Function to add charts with titles and captions\n",
        "def add_figure(fig_title, image_path, caption_lines):\n",
        "    global y_offset\n",
        "    if y_offset < image_height + 80:\n",
        "        c.showPage()\n",
        "        y_offset = height - margin\n",
        "\n",
        "    c.setFont(\"Helvetica-Bold\", 12)\n",
        "    c.drawString(margin, y_offset, fig_title)\n",
        "    y_offset -= 20\n",
        "\n",
        "    c.drawImage(image_path, margin, y_offset - image_height, width=image_width, height=image_height)\n",
        "    y_offset -= (image_height + 10)\n",
        "\n",
        "    c.setFont(\"Helvetica\", 10)\n",
        "    for line in caption_lines:\n",
        "        c.drawString(margin, y_offset, line)\n",
        "        y_offset -= 20\n",
        "    y_offset -= 20\n",
        "\n",
        "# Insert all plots into the PDF\n",
        "add_figure(\"Figure 1: Closing Price Over Time\", \"closing_price.png\", [\n",
        "    \"Amazon’s stock price from 2020 to 2023 shows growth phases and market corrections.\",\n",
        "    \"Key events include the pandemic boom and tech-sector fluctuations.\"\n",
        "])\n",
        "\n",
        "add_figure(\"Figure 2: Distribution of Closing Prices\", \"distribution_prices.png\", [\n",
        "    \"Most closing prices lie within a central range with some high-price outliers.\",\n",
        "    \"This distribution reflects Amazon’s relative price stability with periods of volatility.\"\n",
        "])\n",
        "\n",
        "add_figure(\"Figure 3: Correlation Between Variables\", \"correlation_heatmap.png\", [\n",
        "    \"Strong positive correlation between SMAs and closing prices is observed.\",\n",
        "    \"Daily returns are more independent, indicating higher volatility.\"\n",
        "])\n",
        "\n",
        "add_figure(\"Figure 4: Moving Averages\", \"moving_averages.png\", [\n",
        "    \"Short-term (20-day) and long-term (50-day) SMAs reveal trend directions.\",\n",
        "    \"Crossovers often signal shifts in momentum or trend reversals.\"\n",
        "])\n",
        "\n",
        "add_figure(\"Figure 5: Daily Return Over Time\", \"daily_return.png\", [\n",
        "    \"Return spikes indicate impactful events like earnings or economic news.\",\n",
        "    \"Volatility provides insight into risk and opportunity.\"\n",
        "])\n",
        "\n",
        "# Save the PDF\n",
        "c.save()\n",
        "print(f\"PDF report generated: {pdf_filename}\")\n"
      ],
      "metadata": {
        "colab": {
          "base_uri": "https://localhost:8080/"
        },
        "id": "IYfGPiRypQqz",
        "outputId": "d314bf38-2263-4c54-aa67-562b00322da5"
      },
      "execution_count": 9,
      "outputs": [
        {
          "output_type": "stream",
          "name": "stderr",
          "text": [
            "\r[*********************100%***********************]  1 of 1 completed\n"
          ]
        },
        {
          "output_type": "stream",
          "name": "stdout",
          "text": [
            "PDF report generated: amazon_stock_analysis_report.pdf\n"
          ]
        }
      ]
    },
    {
      "cell_type": "code",
      "source": [],
      "metadata": {
        "id": "FR2qrsMsp8bx"
      },
      "execution_count": 9,
      "outputs": []
    }
  ]
}